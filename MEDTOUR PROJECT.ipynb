{
 "cells": [
  {
   "cell_type": "markdown",
   "id": "44235c19",
   "metadata": {},
   "source": [
    "# TASK-1"
   ]
  },
  {
   "cell_type": "code",
   "execution_count": 1,
   "id": "221701ee",
   "metadata": {},
   "outputs": [
    {
     "name": "stdout",
     "output_type": "stream",
     "text": [
      "Empty DataFrame\n",
      "Columns: [{\"cells\":[{\"cell_type\":\"markdown\", metadata:{\"dc\":{\"key\":\"4\"}, deletable:false, editable:false, run_control:{\"frozen\":true}, tags:[\"context\"]}, source:[\"## 1. Where are the old left-handed people?\\n\", \\n, <p>In this notebook, we will explore this phenomenon using age distribution data to see if we can reproduce a difference in average age at death purely from the changing rates of left-handedness over time, refuting the claim of early death for left-handers. This notebook uses <code>pandas</code> and Bayesian statistics to analyze the probability of being a certain age at death given that you are reported as left-handed or right-handed.</p>\\n, <p>A National Geographic survey in 1986 resulted in over a million responses that included age, sex, and hand preference for throwing and writing. Researchers Avery Gilbert and Charles Wysocki analyzed this data and noticed that rates of left-handedness were around 13% for people younger than 40 but decreased with age to about 5% by the age of 80. They concluded based on analysis of a subgroup of people who throw left-handed but write right-handed that this age-dependence was primarily due to changing social acceptability of left-handedness. This means that the rates aren't a factor of <em>age</em> specifically but rather of the <em>year you were born</em>, and if the same study was done today, we should expect a shifted version of the same distribution as a function of age. Ultimately, we'll see what effect this changing rate has on the apparent mean age of death of left-handed people, but let's start by plotting the rates of left-handedness as a function of age.</p>\\n, <p>This notebook uses two datasets: <a href=\\https://www.cdc.gov/nchs/data/statab/vs00199_table310.pdf\\\">death distribution data</a> for the United States from the year 1999 (source website <a href=\\\"https://www.cdc.gov/nchs/nvss/mortality_tables.htm\\\">here</a>) and rates of left-handedness digitized from a figure in this <a href=\\\"https://www.ncbi.nlm.nih.gov/pubmed/1528408\\\">1992 paper by Gilbert and Wysocki</a>. </p>\"]}, {\"cell_type\":\"code\", execution_count:0, metadata:{\"dc\":{\"key\":\"4\"}.1, tags:[\"sample_code\"]}, outputs:[], source:[\"# import libraries\\n\", # ... YOUR CODE FOR TASK 1 ...\\n, \\n.1, # load the data\\n, data_url_1 = \\https://gist.githubusercontent.com/mbonsma/8da0990b71ba9a09f7de395574e54df1/raw/aec88b30af87fad8d45da7e774223f91dad09e88/lh_data.csv\\\"\\n\", lefthanded_data = ...\\n, \\n.2, # plot male and female left-handedness rates vs. age\\n, %matplotlib inline\\n, fig, ax = plt.subplots() # create figure and axis objects\\n, ax.plot(..., ..., ..., marker = 'o') # plot \\Female\\\" vs. \\\"Age\\\"\\n\", ax.plot(..., ..., ..., marker = 'x') # plot \\Male\\\" vs. \\\"Age\\\"\\n\", ax.legend() # add a legend\\n, ax.set_xlabel(...)\\n, ax.set_ylabel(...)]}, {\"cell_type\":\"markdown\", metadata:{\"dc\":{\"key\":\"11\"}, deletable:false.1, editable:false.1, run_control:{\"frozen\":true}.1, tags:[\"context\"]}.1, source:[\"## 2. Rates of left-handedness over time\\n\", <p>Let's convert this data into a plot of the rates of left-handedness as a function of the year of birth, and average over male and female to get a single rate for both sexes. </p>\\n, <p>Since the study was done in 1986, the data after this conversion will be the percentage of people alive in 1986 who are left-handed as a function of the year they were born. </p>]}, {\"cell_type\":\"code\".1, execution_count:0.1, metadata:{\"dc\":{\"key\":\"11\"}.1, tags:[\"sample_code\"]}.1, outputs:[].1, source:[\"# create a new column for birth year of each age\\n\", # ... YOUR CODE FOR TASK 2 ...\\n, \\n.3, # create a new column for the average of male and female\\n, # ... YOUR CODE FOR TASK 2 ...\\n.1, \\n.4, # create a plot of the 'Mean_lh' column vs. 'Birth_year'\\n, fig, ax = plt.subplots()\\n, ax.plot(..., ..., ...) # plot 'Mean_lh' vs. 'Birth_year'\\n, ax.set_xlabel(...) # set the x label for the plot\\n, ax.set_ylabel(...) # set the y label for the plot]}, {\"cell_type\":\"markdown\".1, metadata:{\"dc\":{\"key\":\"18\"}, deletable:false.2, editable:false.2, run_control:{\"frozen\":true}.2, tags:[\"context\"]}.2, source:[\"## 3. Applying Bayes' rule\\n\", <p>The probability of dying at a certain age given that you're left-handed is <strong>not</strong> equal to the probability of being left-handed given that you died at a certain age. This inequality is why we need <strong>Bayes' theorem</strong>, a statement about conditional probability which allows us to update our beliefs after seeing evidence. </p>\\n, <p>We want to calculate the probability of dying at age A given that you're left-handed. Let's write this in shorthand as P(A | LH). We also want the same quantity for right-handers: P(A | RH). </p>\\n, <p>Here's Bayes' theorem for the two events we care about: left-handedness (LH) and dying at age A.</p>\\n, <p>$$P(A | LH) = \\\\frac{P(LH|A) P(A)}{P(LH)}$$</p>\\n, <p>P(LH | A) is the probability that you are left-handed <em>given that</em> you died at age A. P(A) is the overall probability of dying at age A, and P(LH) is the overall probability of being left-handed. We will now calculate each of these three quantities, beginning with P(LH | A).</p>\\n, <p>To calculate P(LH | A) for ages that might fall outside the original data, we will need to extrapolate the data to earlier and later years. Since the rates flatten out in the early 1900s and late 1900s, we'll use a few points at each end and take the mean to extrapolate the rates on each end. The number of points used for this is arbitrary, but we'll pick 10 since the data looks flat-ish until about 1910. </p>]}, {\"cell_type\":\"code\".2, execution_count:0.2, metadata:{\"dc\":{\"key\":\"18\"}.1, tags:[\"sample_code\"]}.2, outputs:[].2, source:[\"# import library\\n\", # ... YOUR CODE FOR TASK 3 ...\\n, \\n.5, # create a function for P(LH | A)\\n, def P_lh_given_A(ages_of_death, study_year = 1990):\\n,     \\\\\"\\\" P(Left-handed | ages of death),  calculated based on the reported rates of left-handedness.\\n\",     Inputs: numpy array of ages of death, study_year\\n,     Returns: probability of left-handedness given that subjects died in `study_year` at ages `ages_of_death` \\\\\"\\\"\\n\",     \\n,     # Use the mean of the 10 last and 10 first points for left-handedness rates before and after the start \\n,     early_1900s_rate = ... \\n,     late_1900s_rate = ...\\n,     middle_rates = lefthanded_data.loc[lefthanded_data['Birth_year'].isin(study_year - ages_of_death)]['Mean_lh']\\n,     youngest_age = study_year - 1986 + 10 # the youngest age is 10\\n,     oldest_age = study_year - 1986 + 86 # the oldest age is 86\\n,     \\n.1,     P_return = np.zeros(ages_of_death.shape) # create an empty array to store the results\\n,     # extract rate of left-handedness for people of ages 'ages_of_death'\\n,     P_return[ages_of_death > oldest_age] = ...\\n,     P_return[ages_of_death < youngest_age] = ...\\n,     P_return[np.logical_and((ages_of_death <= oldest_age), (ages_of_death >= youngest_age))] = middle_rates / 100\\n,     \\n.2,     return P_return]}, {\"cell_type\":\"markdown\".2, metadata:{\"dc\":{\"key\":\"25\"}, ...]\n",
      "Index: []\n",
      "\n",
      "[0 rows x 297 columns]\n"
     ]
    }
   ],
   "source": [
    "import pandas as pd\n",
    "import seaborn as sns\n",
    "import matplotlib.pyplot as plt\n",
    "import warnings\n",
    "warnings.filterwarnings('ignore')\n",
    "uploaded_csv_filename = 'Medtour'\n",
    "\n",
    "lefthanded_data = pd.read_csv(uploaded_csv_filename, encoding='latin1')\n",
    "\n",
    "print(lefthanded_data.head())\n",
    "\n"
   ]
  },
  {
   "cell_type": "code",
   "execution_count": 2,
   "id": "120dd044",
   "metadata": {},
   "outputs": [
    {
     "name": "stdout",
     "output_type": "stream",
     "text": [
      "Index(['{\"cells\":[{\"cell_type\":\"markdown\"', 'metadata:{\"dc\":{\"key\":\"4\"}',\n",
      "       'deletable:false', 'editable:false', 'run_control:{\"frozen\":true}',\n",
      "       'tags:[\"context\"]}',\n",
      "       'source:[\"## 1. Where are the old left-handed people?\\n\"', '\\n',\n",
      "       '<p>In this notebook, we will explore this phenomenon using age distribution data to see if we can reproduce a difference in average age at death purely from the changing rates of left-handedness over time, refuting the claim of early death for left-handers. This notebook uses <code>pandas</code> and Bayesian statistics to analyze the probability of being a certain age at death given that you are reported as left-handed or right-handed.</p>\\n',\n",
      "       '<p>A National Geographic survey in 1986 resulted in over a million responses that included age, sex, and hand preference for throwing and writing. Researchers Avery Gilbert and Charles Wysocki analyzed this data and noticed that rates of left-handedness were around 13% for people younger than 40 but decreased with age to about 5% by the age of 80. They concluded based on analysis of a subgroup of people who throw left-handed but write right-handed that this age-dependence was primarily due to changing social acceptability of left-handedness. This means that the rates aren't a factor of <em>age</em> specifically but rather of the <em>year you were born</em>, and if the same study was done today, we should expect a shifted version of the same distribution as a function of age. Ultimately, we'll see what effect this changing rate has on the apparent mean age of death of left-handed people, but let's start by plotting the rates of left-handedness as a function of age.</p>\\n',\n",
      "       ...\n",
      "       'language_info:{\"codemirror_mode\":{\"name\":\"ipython\"', 'version:3}',\n",
      "       'file_extension:\".py\"', 'mimetype:\"text/x-python\"', 'name:\"python\"',\n",
      "       'nbconvert_exporter:\"python\"', 'pygments_lexer:\"ipython3\"',\n",
      "       'version:\"3.5.2\"}}', 'nbformat:4', 'nbformat_minor:2}'],\n",
      "      dtype='object', length=297)\n"
     ]
    }
   ],
   "source": [
    "print(lefthanded_data.columns)\n"
   ]
  },
  {
   "cell_type": "code",
   "execution_count": 3,
   "id": "1c33d577",
   "metadata": {},
   "outputs": [
    {
     "name": "stdout",
     "output_type": "stream",
     "text": [
      "{\"cells\":[{\"cell_type\":\"markdown\"    object\n",
      "metadata:{\"dc\":{\"key\":\"4\"}           object\n",
      "deletable:false                      object\n",
      "editable:false                       object\n",
      "run_control:{\"frozen\":true}          object\n",
      "                                      ...  \n",
      "nbconvert_exporter:\"python\"          object\n",
      "pygments_lexer:\"ipython3\"            object\n",
      "version:\"3.5.2\"}}                    object\n",
      "nbformat:4                           object\n",
      "nbformat_minor:2}                    object\n",
      "Length: 297, dtype: object\n"
     ]
    }
   ],
   "source": [
    "print(lefthanded_data.dtypes)\n",
    "\n"
   ]
  },
  {
   "cell_type": "code",
   "execution_count": 4,
   "id": "deec8c94",
   "metadata": {},
   "outputs": [
    {
     "data": {
      "text/html": [
       "<div>\n",
       "<style scoped>\n",
       "    .dataframe tbody tr th:only-of-type {\n",
       "        vertical-align: middle;\n",
       "    }\n",
       "\n",
       "    .dataframe tbody tr th {\n",
       "        vertical-align: top;\n",
       "    }\n",
       "\n",
       "    .dataframe thead th {\n",
       "        text-align: right;\n",
       "    }\n",
       "</style>\n",
       "<table border=\"1\" class=\"dataframe\">\n",
       "  <thead>\n",
       "    <tr style=\"text-align: right;\">\n",
       "      <th></th>\n",
       "      <th>{\"cells\":[{\"cell_type\":\"markdown\"</th>\n",
       "      <th>metadata:{\"dc\":{\"key\":\"4\"}</th>\n",
       "      <th>deletable:false</th>\n",
       "      <th>editable:false</th>\n",
       "      <th>run_control:{\"frozen\":true}</th>\n",
       "      <th>tags:[\"context\"]}</th>\n",
       "      <th>source:[\"## 1. Where are the old left-handed people?\\n\"</th>\n",
       "      <th>\\n</th>\n",
       "      <th>&lt;p&gt;In this notebook, we will explore this phenomenon using age distribution data to see if we can reproduce a difference in average age at death purely from the changing rates of left-handedness over time, refuting the claim of early death for left-handers. This notebook uses &lt;code&gt;pandas&lt;/code&gt; and Bayesian statistics to analyze the probability of being a certain age at death given that you are reported as left-handed or right-handed.&lt;/p&gt;\\n</th>\n",
       "      <th>&lt;p&gt;A National Geographic survey in 1986 resulted in over a million responses that included age, sex, and hand preference for throwing and writing. Researchers Avery Gilbert and Charles Wysocki analyzed this data and noticed that rates of left-handedness were around 13% for people younger than 40 but decreased with age to about 5% by the age of 80. They concluded based on analysis of a subgroup of people who throw left-handed but write right-handed that this age-dependence was primarily due to changing social acceptability of left-handedness. This means that the rates aren't a factor of &lt;em&gt;age&lt;/em&gt; specifically but rather of the &lt;em&gt;year you were born&lt;/em&gt;, and if the same study was done today, we should expect a shifted version of the same distribution as a function of age. Ultimately, we'll see what effect this changing rate has on the apparent mean age of death of left-handed people, but let's start by plotting the rates of left-handedness as a function of age.&lt;/p&gt;\\n</th>\n",
       "      <th>...</th>\n",
       "      <th>language_info:{\"codemirror_mode\":{\"name\":\"ipython\"</th>\n",
       "      <th>version:3}</th>\n",
       "      <th>file_extension:\".py\"</th>\n",
       "      <th>mimetype:\"text/x-python\"</th>\n",
       "      <th>name:\"python\"</th>\n",
       "      <th>nbconvert_exporter:\"python\"</th>\n",
       "      <th>pygments_lexer:\"ipython3\"</th>\n",
       "      <th>version:\"3.5.2\"}}</th>\n",
       "      <th>nbformat:4</th>\n",
       "      <th>nbformat_minor:2}</th>\n",
       "    </tr>\n",
       "  </thead>\n",
       "  <tbody>\n",
       "  </tbody>\n",
       "</table>\n",
       "<p>0 rows × 297 columns</p>\n",
       "</div>"
      ],
      "text/plain": [
       "Empty DataFrame\n",
       "Columns: [{\"cells\":[{\"cell_type\":\"markdown\", metadata:{\"dc\":{\"key\":\"4\"}, deletable:false, editable:false, run_control:{\"frozen\":true}, tags:[\"context\"]}, source:[\"## 1. Where are the old left-handed people?\\n\", \\n, <p>In this notebook, we will explore this phenomenon using age distribution data to see if we can reproduce a difference in average age at death purely from the changing rates of left-handedness over time, refuting the claim of early death for left-handers. This notebook uses <code>pandas</code> and Bayesian statistics to analyze the probability of being a certain age at death given that you are reported as left-handed or right-handed.</p>\\n, <p>A National Geographic survey in 1986 resulted in over a million responses that included age, sex, and hand preference for throwing and writing. Researchers Avery Gilbert and Charles Wysocki analyzed this data and noticed that rates of left-handedness were around 13% for people younger than 40 but decreased with age to about 5% by the age of 80. They concluded based on analysis of a subgroup of people who throw left-handed but write right-handed that this age-dependence was primarily due to changing social acceptability of left-handedness. This means that the rates aren't a factor of <em>age</em> specifically but rather of the <em>year you were born</em>, and if the same study was done today, we should expect a shifted version of the same distribution as a function of age. Ultimately, we'll see what effect this changing rate has on the apparent mean age of death of left-handed people, but let's start by plotting the rates of left-handedness as a function of age.</p>\\n, <p>This notebook uses two datasets: <a href=\\https://www.cdc.gov/nchs/data/statab/vs00199_table310.pdf\\\">death distribution data</a> for the United States from the year 1999 (source website <a href=\\\"https://www.cdc.gov/nchs/nvss/mortality_tables.htm\\\">here</a>) and rates of left-handedness digitized from a figure in this <a href=\\\"https://www.ncbi.nlm.nih.gov/pubmed/1528408\\\">1992 paper by Gilbert and Wysocki</a>. </p>\"]}, {\"cell_type\":\"code\", execution_count:0, metadata:{\"dc\":{\"key\":\"4\"}.1, tags:[\"sample_code\"]}, outputs:[], source:[\"# import libraries\\n\", # ... YOUR CODE FOR TASK 1 ...\\n, \\n.1, # load the data\\n, data_url_1 = \\https://gist.githubusercontent.com/mbonsma/8da0990b71ba9a09f7de395574e54df1/raw/aec88b30af87fad8d45da7e774223f91dad09e88/lh_data.csv\\\"\\n\", lefthanded_data = ...\\n, \\n.2, # plot male and female left-handedness rates vs. age\\n, %matplotlib inline\\n, fig, ax = plt.subplots() # create figure and axis objects\\n, ax.plot(..., ..., ..., marker = 'o') # plot \\Female\\\" vs. \\\"Age\\\"\\n\", ax.plot(..., ..., ..., marker = 'x') # plot \\Male\\\" vs. \\\"Age\\\"\\n\", ax.legend() # add a legend\\n, ax.set_xlabel(...)\\n, ax.set_ylabel(...)]}, {\"cell_type\":\"markdown\", metadata:{\"dc\":{\"key\":\"11\"}, deletable:false.1, editable:false.1, run_control:{\"frozen\":true}.1, tags:[\"context\"]}.1, source:[\"## 2. Rates of left-handedness over time\\n\", <p>Let's convert this data into a plot of the rates of left-handedness as a function of the year of birth, and average over male and female to get a single rate for both sexes. </p>\\n, <p>Since the study was done in 1986, the data after this conversion will be the percentage of people alive in 1986 who are left-handed as a function of the year they were born. </p>]}, {\"cell_type\":\"code\".1, execution_count:0.1, metadata:{\"dc\":{\"key\":\"11\"}.1, tags:[\"sample_code\"]}.1, outputs:[].1, source:[\"# create a new column for birth year of each age\\n\", # ... YOUR CODE FOR TASK 2 ...\\n, \\n.3, # create a new column for the average of male and female\\n, # ... YOUR CODE FOR TASK 2 ...\\n.1, \\n.4, # create a plot of the 'Mean_lh' column vs. 'Birth_year'\\n, fig, ax = plt.subplots()\\n, ax.plot(..., ..., ...) # plot 'Mean_lh' vs. 'Birth_year'\\n, ax.set_xlabel(...) # set the x label for the plot\\n, ax.set_ylabel(...) # set the y label for the plot]}, {\"cell_type\":\"markdown\".1, metadata:{\"dc\":{\"key\":\"18\"}, deletable:false.2, editable:false.2, run_control:{\"frozen\":true}.2, tags:[\"context\"]}.2, source:[\"## 3. Applying Bayes' rule\\n\", <p>The probability of dying at a certain age given that you're left-handed is <strong>not</strong> equal to the probability of being left-handed given that you died at a certain age. This inequality is why we need <strong>Bayes' theorem</strong>, a statement about conditional probability which allows us to update our beliefs after seeing evidence. </p>\\n, <p>We want to calculate the probability of dying at age A given that you're left-handed. Let's write this in shorthand as P(A | LH). We also want the same quantity for right-handers: P(A | RH). </p>\\n, <p>Here's Bayes' theorem for the two events we care about: left-handedness (LH) and dying at age A.</p>\\n, <p>$$P(A | LH) = \\\\frac{P(LH|A) P(A)}{P(LH)}$$</p>\\n, <p>P(LH | A) is the probability that you are left-handed <em>given that</em> you died at age A. P(A) is the overall probability of dying at age A, and P(LH) is the overall probability of being left-handed. We will now calculate each of these three quantities, beginning with P(LH | A).</p>\\n, <p>To calculate P(LH | A) for ages that might fall outside the original data, we will need to extrapolate the data to earlier and later years. Since the rates flatten out in the early 1900s and late 1900s, we'll use a few points at each end and take the mean to extrapolate the rates on each end. The number of points used for this is arbitrary, but we'll pick 10 since the data looks flat-ish until about 1910. </p>]}, {\"cell_type\":\"code\".2, execution_count:0.2, metadata:{\"dc\":{\"key\":\"18\"}.1, tags:[\"sample_code\"]}.2, outputs:[].2, source:[\"# import library\\n\", # ... YOUR CODE FOR TASK 3 ...\\n, \\n.5, # create a function for P(LH | A)\\n, def P_lh_given_A(ages_of_death, study_year = 1990):\\n,     \\\\\"\\\" P(Left-handed | ages of death),  calculated based on the reported rates of left-handedness.\\n\",     Inputs: numpy array of ages of death, study_year\\n,     Returns: probability of left-handedness given that subjects died in `study_year` at ages `ages_of_death` \\\\\"\\\"\\n\",     \\n,     # Use the mean of the 10 last and 10 first points for left-handedness rates before and after the start \\n,     early_1900s_rate = ... \\n,     late_1900s_rate = ...\\n,     middle_rates = lefthanded_data.loc[lefthanded_data['Birth_year'].isin(study_year - ages_of_death)]['Mean_lh']\\n,     youngest_age = study_year - 1986 + 10 # the youngest age is 10\\n,     oldest_age = study_year - 1986 + 86 # the oldest age is 86\\n,     \\n.1,     P_return = np.zeros(ages_of_death.shape) # create an empty array to store the results\\n,     # extract rate of left-handedness for people of ages 'ages_of_death'\\n,     P_return[ages_of_death > oldest_age] = ...\\n,     P_return[ages_of_death < youngest_age] = ...\\n,     P_return[np.logical_and((ages_of_death <= oldest_age), (ages_of_death >= youngest_age))] = middle_rates / 100\\n,     \\n.2,     return P_return]}, {\"cell_type\":\"markdown\".2, metadata:{\"dc\":{\"key\":\"25\"}, ...]\n",
       "Index: []\n",
       "\n",
       "[0 rows x 297 columns]"
      ]
     },
     "execution_count": 4,
     "metadata": {},
     "output_type": "execute_result"
    }
   ],
   "source": [
    "\n",
    "lefthanded_data.head()\n"
   ]
  },
  {
   "cell_type": "code",
   "execution_count": 5,
   "id": "4412ab78",
   "metadata": {},
   "outputs": [
    {
     "data": {
      "text/plain": [
       "['{\"cells\":[{\"cell_type\":\"markdown\"',\n",
       " 'metadata:{\"dc\":{\"key\":\"4\"}',\n",
       " 'deletable:false',\n",
       " 'editable:false',\n",
       " 'run_control:{\"frozen\":true}',\n",
       " 'tags:[\"context\"]}',\n",
       " 'source:[\"## 1. Where are the old left-handed people?\\\\n\"',\n",
       " '\\\\n',\n",
       " '<p>In this notebook, we will explore this phenomenon using age distribution data to see if we can reproduce a difference in average age at death purely from the changing rates of left-handedness over time, refuting the claim of early death for left-handers. This notebook uses <code>pandas</code> and Bayesian statistics to analyze the probability of being a certain age at death given that you are reported as left-handed or right-handed.</p>\\\\n',\n",
       " \"<p>A National Geographic survey in 1986 resulted in over a million responses that included age, sex, and hand preference for throwing and writing. Researchers Avery Gilbert and Charles Wysocki analyzed this data and noticed that rates of left-handedness were around 13% for people younger than 40 but decreased with age to about 5% by the age of 80. They concluded based on analysis of a subgroup of people who throw left-handed but write right-handed that this age-dependence was primarily due to changing social acceptability of left-handedness. This means that the rates aren't a factor of <em>age</em> specifically but rather of the <em>year you were born</em>, and if the same study was done today, we should expect a shifted version of the same distribution as a function of age. Ultimately, we'll see what effect this changing rate has on the apparent mean age of death of left-handed people, but let's start by plotting the rates of left-handedness as a function of age.</p>\\\\n\",\n",
       " '<p>This notebook uses two datasets: <a href=\\\\https://www.cdc.gov/nchs/data/statab/vs00199_table310.pdf\\\\\">death distribution data</a> for the United States from the year 1999 (source website <a href=\\\\\"https://www.cdc.gov/nchs/nvss/mortality_tables.htm\\\\\">here</a>) and rates of left-handedness digitized from a figure in this <a href=\\\\\"https://www.ncbi.nlm.nih.gov/pubmed/1528408\\\\\">1992 paper by Gilbert and Wysocki</a>. </p>\"]}',\n",
       " '{\"cell_type\":\"code\"',\n",
       " 'execution_count:0',\n",
       " 'metadata:{\"dc\":{\"key\":\"4\"}.1',\n",
       " 'tags:[\"sample_code\"]}',\n",
       " 'outputs:[]',\n",
       " 'source:[\"# import libraries\\\\n\"',\n",
       " '# ... YOUR CODE FOR TASK 1 ...\\\\n',\n",
       " '\\\\n.1',\n",
       " '# load the data\\\\n',\n",
       " 'data_url_1 = \\\\https://gist.githubusercontent.com/mbonsma/8da0990b71ba9a09f7de395574e54df1/raw/aec88b30af87fad8d45da7e774223f91dad09e88/lh_data.csv\\\\\"\\\\n\"',\n",
       " 'lefthanded_data = ...\\\\n',\n",
       " '\\\\n.2',\n",
       " '# plot male and female left-handedness rates vs. age\\\\n',\n",
       " '%matplotlib inline\\\\n',\n",
       " 'fig, ax = plt.subplots() # create figure and axis objects\\\\n',\n",
       " 'ax.plot(..., ..., ..., marker = \\'o\\') # plot \\\\Female\\\\\" vs. \\\\\"Age\\\\\"\\\\n\"',\n",
       " 'ax.plot(..., ..., ..., marker = \\'x\\') # plot \\\\Male\\\\\" vs. \\\\\"Age\\\\\"\\\\n\"',\n",
       " 'ax.legend() # add a legend\\\\n',\n",
       " 'ax.set_xlabel(...)\\\\n',\n",
       " 'ax.set_ylabel(...)]}',\n",
       " '{\"cell_type\":\"markdown\"',\n",
       " 'metadata:{\"dc\":{\"key\":\"11\"}',\n",
       " 'deletable:false.1',\n",
       " 'editable:false.1',\n",
       " 'run_control:{\"frozen\":true}.1',\n",
       " 'tags:[\"context\"]}.1',\n",
       " 'source:[\"## 2. Rates of left-handedness over time\\\\n\"',\n",
       " \"<p>Let's convert this data into a plot of the rates of left-handedness as a function of the year of birth, and average over male and female to get a single rate for both sexes. </p>\\\\n\",\n",
       " '<p>Since the study was done in 1986, the data after this conversion will be the percentage of people alive in 1986 who are left-handed as a function of the year they were born. </p>]}',\n",
       " '{\"cell_type\":\"code\".1',\n",
       " 'execution_count:0.1',\n",
       " 'metadata:{\"dc\":{\"key\":\"11\"}.1',\n",
       " 'tags:[\"sample_code\"]}.1',\n",
       " 'outputs:[].1',\n",
       " 'source:[\"# create a new column for birth year of each age\\\\n\"',\n",
       " '# ... YOUR CODE FOR TASK 2 ...\\\\n',\n",
       " '\\\\n.3',\n",
       " '# create a new column for the average of male and female\\\\n',\n",
       " '# ... YOUR CODE FOR TASK 2 ...\\\\n.1',\n",
       " '\\\\n.4',\n",
       " \"# create a plot of the 'Mean_lh' column vs. 'Birth_year'\\\\n\",\n",
       " 'fig, ax = plt.subplots()\\\\n',\n",
       " \"ax.plot(..., ..., ...) # plot 'Mean_lh' vs. 'Birth_year'\\\\n\",\n",
       " 'ax.set_xlabel(...) # set the x label for the plot\\\\n',\n",
       " 'ax.set_ylabel(...) # set the y label for the plot]}',\n",
       " '{\"cell_type\":\"markdown\".1',\n",
       " 'metadata:{\"dc\":{\"key\":\"18\"}',\n",
       " 'deletable:false.2',\n",
       " 'editable:false.2',\n",
       " 'run_control:{\"frozen\":true}.2',\n",
       " 'tags:[\"context\"]}.2',\n",
       " 'source:[\"## 3. Applying Bayes\\' rule\\\\n\"',\n",
       " \"<p>The probability of dying at a certain age given that you're left-handed is <strong>not</strong> equal to the probability of being left-handed given that you died at a certain age. This inequality is why we need <strong>Bayes' theorem</strong>, a statement about conditional probability which allows us to update our beliefs after seeing evidence. </p>\\\\n\",\n",
       " \"<p>We want to calculate the probability of dying at age A given that you're left-handed. Let's write this in shorthand as P(A | LH). We also want the same quantity for right-handers: P(A | RH). </p>\\\\n\",\n",
       " \"<p>Here's Bayes' theorem for the two events we care about: left-handedness (LH) and dying at age A.</p>\\\\n\",\n",
       " '<p>$$P(A | LH) = \\\\\\\\frac{P(LH|A) P(A)}{P(LH)}$$</p>\\\\n',\n",
       " '<p>P(LH | A) is the probability that you are left-handed <em>given that</em> you died at age A. P(A) is the overall probability of dying at age A, and P(LH) is the overall probability of being left-handed. We will now calculate each of these three quantities, beginning with P(LH | A).</p>\\\\n',\n",
       " \"<p>To calculate P(LH | A) for ages that might fall outside the original data, we will need to extrapolate the data to earlier and later years. Since the rates flatten out in the early 1900s and late 1900s, we'll use a few points at each end and take the mean to extrapolate the rates on each end. The number of points used for this is arbitrary, but we'll pick 10 since the data looks flat-ish until about 1910. </p>]}\",\n",
       " '{\"cell_type\":\"code\".2',\n",
       " 'execution_count:0.2',\n",
       " 'metadata:{\"dc\":{\"key\":\"18\"}.1',\n",
       " 'tags:[\"sample_code\"]}.2',\n",
       " 'outputs:[].2',\n",
       " 'source:[\"# import library\\\\n\"',\n",
       " '# ... YOUR CODE FOR TASK 3 ...\\\\n',\n",
       " '\\\\n.5',\n",
       " '# create a function for P(LH | A)\\\\n',\n",
       " 'def P_lh_given_A(ages_of_death, study_year = 1990):\\\\n',\n",
       " '    \\\\\\\\\"\\\\\" P(Left-handed | ages of death)',\n",
       " ' calculated based on the reported rates of left-handedness.\\\\n\"',\n",
       " '    Inputs: numpy array of ages of death, study_year\\\\n',\n",
       " '    Returns: probability of left-handedness given that subjects died in `study_year` at ages `ages_of_death` \\\\\\\\\"\\\\\"\\\\n\"',\n",
       " '    \\\\n',\n",
       " '    # Use the mean of the 10 last and 10 first points for left-handedness rates before and after the start \\\\n',\n",
       " '    early_1900s_rate = ... \\\\n',\n",
       " '    late_1900s_rate = ...\\\\n',\n",
       " \"    middle_rates = lefthanded_data.loc[lefthanded_data['Birth_year'].isin(study_year - ages_of_death)]['Mean_lh']\\\\n\",\n",
       " '    youngest_age = study_year - 1986 + 10 # the youngest age is 10\\\\n',\n",
       " '    oldest_age = study_year - 1986 + 86 # the oldest age is 86\\\\n',\n",
       " '    \\\\n.1',\n",
       " '    P_return = np.zeros(ages_of_death.shape) # create an empty array to store the results\\\\n',\n",
       " \"    # extract rate of left-handedness for people of ages 'ages_of_death'\\\\n\",\n",
       " '    P_return[ages_of_death > oldest_age] = ...\\\\n',\n",
       " '    P_return[ages_of_death < youngest_age] = ...\\\\n',\n",
       " '    P_return[np.logical_and((ages_of_death <= oldest_age), (ages_of_death >= youngest_age))] = middle_rates / 100\\\\n',\n",
       " '    \\\\n.2',\n",
       " '    return P_return]}',\n",
       " '{\"cell_type\":\"markdown\".2',\n",
       " 'metadata:{\"dc\":{\"key\":\"25\"}',\n",
       " 'deletable:false.3',\n",
       " 'editable:false.3',\n",
       " 'run_control:{\"frozen\":true}.3',\n",
       " 'tags:[\"context\"]}.3',\n",
       " 'source:[\"## 4. When do people normally die?\\\\n\"',\n",
       " \"<p>To estimate the probability of living to an age A, we can use data that gives the number of people who died in a given year and how old they were to create a distribution of ages of death. If we normalize the numbers to the total number of people who died, we can think of this data as a probability distribution that gives the probability of dying at age A. The data we'll use for this is from the entire US for the year 1999 - the closest I could find for the time range we're interested in. </p>\\\\n\",\n",
       " \"<p>In this block, we'll load in the death distribution data and plot it. The first column is the age, and the other columns are the number of people who died at that age. </p>]}\",\n",
       " '{\"cell_type\":\"code\".3',\n",
       " 'execution_count:0.3',\n",
       " 'metadata:{\"dc\":{\"key\":\"25\"}.1',\n",
       " 'tags:[\"sample_code\"]}.3',\n",
       " 'outputs:[].3',\n",
       " 'source:[\"# Death distribution data for the United States in 1999\\\\n\"',\n",
       " 'data_url_2 = \\\\https://gist.githubusercontent.com/mbonsma/2f4076aab6820ca1807f4e29f75f18ec/raw/62f3ec07514c7e31f5979beeca86f19991540796/cdc_vs00199_table310.tsv\\\\\"\\\\n\"',\n",
       " '\\\\n.6',\n",
       " '# load death distribution data\\\\n',\n",
       " '# ... YOUR CODE FOR TASK 4 ...\\\\n',\n",
       " '\\\\n.7',\n",
       " '# drop NaN values from the `Both Sexes` column\\\\n',\n",
       " '# ... YOUR CODE FOR TASK 4 ...\\\\n.1',\n",
       " '\\\\n.8',\n",
       " '# plot number of people who died as a function of age\\\\n',\n",
       " 'fig, ax = plt.subplots()\\\\n.1',\n",
       " \"ax.plot(..., ..., data = ..., marker='o') # plot 'Both Sexes' vs. 'Age'\\\\n\",\n",
       " 'ax.set_xlabel(...) \\\\n',\n",
       " 'ax.set_ylabel(...)]}.1',\n",
       " '{\"cell_type\":\"markdown\".3',\n",
       " 'metadata:{\"dc\":{\"key\":\"32\"}',\n",
       " 'deletable:false.4',\n",
       " 'editable:false.4',\n",
       " 'run_control:{\"frozen\":true}.4',\n",
       " 'tags:[\"context\"]}.4',\n",
       " 'source:[\"## 5. The overall probability of left-handedness\\\\n\"',\n",
       " \"<p>In the previous code block we loaded data to give us P(A), and now we need P(LH). P(LH) is the probability that a person who died in our particular study year is left-handed, assuming we know nothing else about them. This is the average left-handedness in the population of deceased people, and we can calculate it by summing up all of the left-handedness probabilities for each age, weighted with the number of deceased people at each age, then divided by the total number of deceased people to get a probability. In equation form, this is what we're calculating, where N(A) is the number of people who died at age A (given by the dataframe <code>death_distribution_data</code>):</p>\\\\n\",\n",
       " '<p><img src=\\\\https://i.imgur.com/gBIWykY.png\\\\\" alt=\\\\\"equation\\\\\" width=\\\\\"220\\\\\"></p>\\\\n\"',\n",
       " '<!--- $$P(LH) = \\\\\\\\frac{\\\\\\\\sum_{\\\\\\\\text{A}} P(LH | A) N(A)}{\\\\\\\\sum_{\\\\\\\\text{A}} N(A)}$$ -->]}',\n",
       " '{\"cell_type\":\"code\".4',\n",
       " 'execution_count:0.4',\n",
       " 'metadata:{\"dc\":{\"key\":\"32\"}.1',\n",
       " 'tags:[\"sample_code\"]}.4',\n",
       " 'outputs:[].4',\n",
       " 'source:[\"def P_lh(death_distribution_data',\n",
       " ' study_year = 1990): # sum over P_lh for each age group\\\\n\"',\n",
       " '    \\\\\\\\\"\\\\\" Overall probability of being left-handed if you died in the study year\\\\n\"',\n",
       " '    Input: dataframe of death distribution data, study year\\\\n',\n",
       " '    Output: P(LH), a single floating point number \\\\\\\\\"\\\\\"\\\\n\"',\n",
       " '    p_list = ... # multiply number of dead people by P_lh_given_A\\\\n',\n",
       " '    p = ... # calculate the sum of p_list\\\\n',\n",
       " \"    return ... # normalize to total number of people (sum of death_distribution_data['Both Sexes'])\\\\n\",\n",
       " '\\\\n.9',\n",
       " 'print(P_lh(death_distribution_data))]}',\n",
       " '{\"cell_type\":\"markdown\".4',\n",
       " 'metadata:{\"dc\":{\"key\":\"39\"}',\n",
       " 'deletable:false.5',\n",
       " 'editable:false.5',\n",
       " 'run_control:{\"frozen\":true}.5',\n",
       " 'tags:[\"context\"]}.5',\n",
       " 'source:[\"## 6. Putting it all together: dying while left-handed (i)\\\\n\"',\n",
       " \"<p>Now we have the means of calculating all three quantities we need: P(A), P(LH), and P(LH | A). We can combine all three using Bayes' rule to get P(A | LH), the probability of being age A at death (in the study year) given that you're left-handed. To make this answer meaningful, though, we also want to compare it to P(A | RH), the probability of being age A at death given that you're right-handed. </p>\\\\n\",\n",
       " \"<p>We're calculating the following quantity twice, once for left-handers and once for right-handers.</p>\\\\n\",\n",
       " '<p>$$P(A | LH) = \\\\\\\\frac{P(LH|A) P(A)}{P(LH)}$$</p>\\\\n.1',\n",
       " '<p>First, for left-handers.</p>\\\\n',\n",
       " '<!--Notice that I was careful not to call these \\\\probability of dying at age A\\\\\"',\n",
       " ' since that\\'s not actually what we\\'re calculating: we use the exact same death distribution data for each. -->\"]}',\n",
       " '{\"cell_type\":\"code\".5',\n",
       " 'execution_count:0.5',\n",
       " 'metadata:{\"dc\":{\"key\":\"39\"}.1',\n",
       " 'tags:[\"sample_code\"]}.5',\n",
       " 'outputs:[].5',\n",
       " 'source:[\"def P_A_given_lh(ages_of_death',\n",
       " ' death_distribution_data',\n",
       " ' study_year = 1990):\\\\n\"',\n",
       " '    \\\\\\\\\"\\\\\" The overall probability of being a particular `age_of_death` given that you\\'re left-handed \\\\\"\\\\\"\\\\\"\\\\n\"',\n",
       " '    P_A = ...\\\\n',\n",
       " '    P_left = ... # use P_lh function to get probability of left-handedness overall\\\\n',\n",
       " '    P_lh_A = ... # use P_lh_given_A to get probability of left-handedness for a certain age\\\\n',\n",
       " '    return P_lh_A*P_A/P_left]}',\n",
       " '{\"cell_type\":\"markdown\".5',\n",
       " 'metadata:{\"dc\":{\"key\":\"46\"}',\n",
       " 'deletable:false.6',\n",
       " 'editable:false.6',\n",
       " 'run_control:{\"frozen\":true}.6',\n",
       " 'tags:[\"context\"]}.6',\n",
       " 'source:[\"## 7. Putting it all together: dying while left-handed (ii)\\\\n\"',\n",
       " '<p>And now for right-handers.</p>]}',\n",
       " '{\"cell_type\":\"code\".6',\n",
       " 'execution_count:0.6',\n",
       " 'metadata:{\"dc\":{\"key\":\"46\"}.1',\n",
       " 'tags:[\"sample_code\"]}.6',\n",
       " 'outputs:[].6',\n",
       " 'source:[\"def P_A_given_rh(ages_of_death',\n",
       " ' death_distribution_data.1',\n",
       " ' study_year = 1990):\\\\n\".1',\n",
       " '    \\\\\\\\\"\\\\\" The overall probability of being a particular `age_of_death` given that you\\'re right-handed \\\\\"\\\\\"\\\\\"\\\\n\"',\n",
       " '    P_A = ...\\\\n.1',\n",
       " \"    P_right = ... # either you're left-handed or right-handed, so P_right = 1 - P_left\\\\n\",\n",
       " '    P_rh_A = ... # P_rh_A = 1 - P_lh_A \\\\n',\n",
       " '    return P_rh_A*P_A/P_right]}',\n",
       " '{\"cell_type\":\"markdown\".6',\n",
       " 'metadata:{\"dc\":{\"key\":\"53\"}',\n",
       " 'deletable:false.7',\n",
       " 'editable:false.7',\n",
       " 'run_control:{\"frozen\":true}.7',\n",
       " 'tags:[\"context\"]}.7',\n",
       " 'source:[\"## 8. Plotting the distributions of conditional probabilities\\\\n\"',\n",
       " \"<p>Now that we have functions to calculate the probability of being age A at death given that you're left-handed or right-handed, let's plot these probabilities for a range of ages of death from 6 to 120. </p>\\\\n\",\n",
       " '<p>Notice that the left-handed distribution has a bump below age 70: of the pool of deceased people, left-handed people are more likely to be younger. </p>]}',\n",
       " '{\"cell_type\":\"code\".7',\n",
       " 'execution_count:0.7',\n",
       " 'metadata:{\"dc\":{\"key\":\"53\"}.1',\n",
       " 'tags:[\"sample_code\"]}.7',\n",
       " 'outputs:[].7',\n",
       " 'source:[\"ages = np.arange(6',\n",
       " ' 115',\n",
       " ' 1) # make a list of ages of death to plot\\\\n\"',\n",
       " '\\\\n.10',\n",
       " '# calculate the probability of being left- or right-handed for each \\\\n',\n",
       " 'left_handed_probability = P_A_given_lh(...)\\\\n',\n",
       " 'right_handed_probability = P_A_given_rh(...)\\\\n',\n",
       " '\\\\n.11',\n",
       " '# create a plot of the two probabilities vs. age\\\\n',\n",
       " 'fig, ax = plt.subplots() # create figure and axis objects\\\\n.1',\n",
       " 'ax.plot(ages, left_handed_probability, label = \\\\Left-handed\\\\\")\\\\n\"',\n",
       " 'ax.plot(..., ..., label = ...)\\\\n',\n",
       " 'ax.legend() # add a legend\\\\n.1',\n",
       " 'ax.set_xlabel(\\\\Age at death\\\\\")\\\\n\"',\n",
       " 'ax.set_ylabel(r\\\\Probability of being age A at death\\\\\")\"]}',\n",
       " '{\"cell_type\":\"markdown\".7',\n",
       " 'metadata:{\"dc\":{\"key\":\"60\"}',\n",
       " 'deletable:false.8',\n",
       " 'editable:false.8',\n",
       " 'run_control:{\"frozen\":true}.8',\n",
       " 'tags:[\"context\"]}.8',\n",
       " 'source:[\"## 9. Moment of truth: age of left and right-handers at death\\\\n\"',\n",
       " \"<p>Finally, let's compare our results with the original study that found that left-handed people were nine years younger at death on average. We can do this by calculating the mean of these probability distributions in the same way we calculated P(LH) earlier, weighting the probability distribution by age and summing over the result.</p>\\\\n\",\n",
       " '<p>$$\\\\\\\\text{Average age of left-handed people at death} = \\\\\\\\sum_A A P(A | LH)$$</p>\\\\n',\n",
       " '<p>$$\\\\\\\\text{Average age of right-handed people at death} = \\\\\\\\sum_A A P(A | RH)$$</p>]}',\n",
       " '{\"cell_type\":\"code\".8',\n",
       " 'execution_count:0.8',\n",
       " 'metadata:{\"dc\":{\"key\":\"60\"}.1',\n",
       " 'tags:[\"sample_code\"]}.8',\n",
       " 'outputs:[].8',\n",
       " 'source:[\"# calculate average ages for left-handed and right-handed groups\\\\n\"',\n",
       " '# use np.array so that two arrays can be multiplied\\\\n',\n",
       " 'average_lh_age =  np.nansum(...*np.array(...))\\\\n',\n",
       " 'average_rh_age =  np.nansum(...*np.array(...))\\\\n',\n",
       " '\\\\n.12',\n",
       " '# print the average ages for each group\\\\n',\n",
       " '# ... YOUR CODE FOR TASK 9 ...\\\\n',\n",
       " '\\\\n.13',\n",
       " '# print the difference between the average ages\\\\n',\n",
       " 'print(\\\\The difference in average ages is \\\\\" + str(round(... - ...',\n",
       " ' 1)) + \\\\\" years.\\\\\")\"]}',\n",
       " '{\"cell_type\":\"markdown\".8',\n",
       " 'metadata:{\"dc\":{\"key\":\"67\"}',\n",
       " 'deletable:false.9',\n",
       " 'editable:false.9',\n",
       " 'run_control:{\"frozen\":true}.9',\n",
       " 'tags:[\"context\"]}.9',\n",
       " 'source:[\"## 10. Final comments\\\\n\"',\n",
       " \"<p>We got a pretty big age gap between left-handed and right-handed people purely as a result of the changing rates of left-handedness in the population, which is good news for left-handers: you probably won't die young because of your sinisterness. The reported rates of left-handedness have increased from just 3% in the early 1900s to about 11% today, which means that older people are much more likely to be reported as right-handed than left-handed, and so looking at a sample of recently deceased people will have more old right-handers.</p>\\\\n\",\n",
       " \"<p>Our number is still less than the 9-year gap measured in the study. It's possible that some of the approximations we made are the cause: </p>\\\\n\",\n",
       " '<ol>\\\\n',\n",
       " '<li>We used death distribution data from almost ten years after the study (1999 instead of 1991), and we used death data from the entire United States instead of California alone (which was the original study). </li>\\\\n',\n",
       " \"<li>We extrapolated the left-handedness survey results to older and younger age groups, but it's possible our extrapolation wasn't close enough to the true rates for those ages. </li>\\\\n\",\n",
       " '</ol>\\\\n',\n",
       " \"<p>One thing we could do next is figure out how much variability we would expect to encounter in the age difference purely because of random sampling: if you take a smaller sample of recently deceased people and assign handedness with the probabilities of the survey, what does that distribution look like? How often would we encounter an age gap of nine years using the same data and assumptions? We won't do that here, but it's possible with this data and the tools of random sampling. </p>\\\\n\",\n",
       " '<!-- I did do this if we want to add more tasks - it would probably take three more blocks.-->\\\\n',\n",
       " \"<p>To finish off, let's calculate the age gap we'd expect if we did the study in 2018 instead of in 1990. The gap turns out to be much smaller since rates of left-handedness haven't increased for people born after about 1960. Both the National Geographic study and the 1990 study happened at a unique time - the rates of left-handedness had been changing across the lifetimes of most people alive, and the difference in handedness between old and young was at its most striking. </p>]}\",\n",
       " '{\"cell_type\":\"code\".9',\n",
       " 'execution_count:0.9',\n",
       " 'metadata:{\"dc\":{\"key\":\"67\"}.1',\n",
       " 'tags:[\"sample_code\"]}.9',\n",
       " 'outputs:[].9',\n",
       " 'source:[\"# Calculate the probability of being left- or right-handed for all ages\\\\n\"',\n",
       " 'left_handed_probability_2018 = ...\\\\n',\n",
       " 'right_handed_probability_2018 = ...\\\\n',\n",
       " '\\\\n.14',\n",
       " '# calculate average ages for left-handed and right-handed groups\\\\n',\n",
       " 'average_lh_age_2018 = np.nansum(ages*np.array(left_handed_probability_2018))\\\\n',\n",
       " 'average_rh_age_2018 = np.nansum(ages*np.array(right_handed_probability_2018))\\\\n',\n",
       " '\\\\n.15',\n",
       " 'print(\\\\The difference in average ages is \\\\\" + \\\\n\"',\n",
       " '      str(round(average_rh_age_2018 - average_lh_age_2018, 1)) + \\\\ years.\\\\\")\"]}]',\n",
       " 'metadata:{\"kernelspec\":{\"display_name\":\"Python 3\"',\n",
       " 'language:\"python\"',\n",
       " 'name:\"python3\"}',\n",
       " 'language_info:{\"codemirror_mode\":{\"name\":\"ipython\"',\n",
       " 'version:3}',\n",
       " 'file_extension:\".py\"',\n",
       " 'mimetype:\"text/x-python\"',\n",
       " 'name:\"python\"',\n",
       " 'nbconvert_exporter:\"python\"',\n",
       " 'pygments_lexer:\"ipython3\"',\n",
       " 'version:\"3.5.2\"}}',\n",
       " 'nbformat:4',\n",
       " 'nbformat_minor:2}']"
      ]
     },
     "execution_count": 5,
     "metadata": {},
     "output_type": "execute_result"
    }
   ],
   "source": [
    "lefthanded_data.columns.tolist()"
   ]
  },
  {
   "cell_type": "code",
   "execution_count": 6,
   "id": "1f2fad88",
   "metadata": {},
   "outputs": [
    {
     "name": "stdout",
     "output_type": "stream",
     "text": [
      "      id  gender   age  hypertension  heart_disease ever_married  \\\n",
      "0  30669    Male   3.0             0              0           No   \n",
      "1  30468    Male  58.0             1              0          Yes   \n",
      "2  16523  Female   8.0             0              0           No   \n",
      "3  56543  Female  70.0             0              0          Yes   \n",
      "4  46136    Male  14.0             0              0           No   \n",
      "\n",
      "      work_type Residence_type  avg_glucose_level   bmi   smoking_status  \\\n",
      "0      children          Rural              95.12  18.0              NaN   \n",
      "1       Private          Urban              87.96  39.2     never smoked   \n",
      "2       Private          Urban             110.89  17.6              NaN   \n",
      "3       Private          Rural              69.04  35.9  formerly smoked   \n",
      "4  Never_worked          Rural             161.28  19.1              NaN   \n",
      "\n",
      "   stroke  \n",
      "0       0  \n",
      "1       0  \n",
      "2       0  \n",
      "3       0  \n",
      "4       0  \n"
     ]
    },
    {
     "data": {
      "image/png": "[encoded data removed]",
      "text/plain": [
       "<Figure size 640x480 with 1 Axes>"
      ]
     },
     "metadata": {},
     "output_type": "display_data"
    }
   ],
   "source": [
    "csv_file_path = r'C:\\Users\\kalya\\Downloads\\dataset - dataset.csv'\n",
    "\n",
    "lefthanded_data = pd.read_csv(csv_file_path, encoding='latin1')\n",
    "\n",
    "\n",
    "print(lefthanded_data.head())\n",
    "\n",
    "\n",
    "age_gender_percentage = lefthanded_data.groupby('age')['gender'].value_counts(normalize=True).unstack()\n",
    "age_gender_percentage.plot(kind='bar', stacked=True)\n",
    "\n",
    "\n",
    "plt.title('Percentage of Male and Female in Each Age Group')\n",
    "plt.xlabel('Age')\n",
    "plt.ylabel('Percentage')\n",
    "\n",
    "\n",
    "plt.show()"
   ]
  },
  {
   "cell_type": "markdown",
   "id": "15d4899c",
   "metadata": {},
   "source": [
    "# TASK-2"
   ]
  },
  {
   "cell_type": "code",
   "execution_count": 7,
   "id": "ff89bfc7",
   "metadata": {},
   "outputs": [
    {
     "data": {
      "image/png": "[encoded data removed]",
      "text/plain": [
       "<Figure size 640x480 with 1 Axes>"
      ]
     },
     "metadata": {},
     "output_type": "display_data"
    }
   ],
   "source": [
    "\n",
    "csv_file_path = r'C:\\Users\\kalya\\Downloads\\dataset - dataset.csv'\n",
    "\n",
    "\n",
    "lefthanded_data = pd.read_csv(csv_file_path, encoding='latin1')\n",
    "\n",
    "\n",
    "lefthanded_data['Birth_year'] = 1986 - lefthanded_data['age']\n",
    "\n",
    "\n",
    "lefthanded_data['Mean_lh'] = lefthanded_data[['gender']].apply(lambda x: 1 if x['gender'] == 'Male' else 0, axis=1)\n",
    "\n",
    "\n",
    "lefthanded_data.plot(x='Birth_year', y='Mean_lh', kind='scatter')\n",
    "\n",
    "\n",
    "plt.title('Mean Left-Handedness vs. Birth Year')\n",
    "plt.xlabel('Birth Year')\n",
    "plt.ylabel('Mean Left-Handedness')\n",
    "\n",
    "# Show the plot\n",
    "plt.show()\n"
   ]
  },
  {
   "cell_type": "code",
   "execution_count": null,
   "id": "170cc573",
   "metadata": {},
   "outputs": [],
   "source": []
  },
  {
   "cell_type": "markdown",
   "id": "0d4414c0",
   "metadata": {},
   "source": [
    "# TASK-3"
   ]
  },
  {
   "cell_type": "code",
   "execution_count": 8,
   "id": "18123360",
   "metadata": {},
   "outputs": [
    {
     "name": "stdout",
     "output_type": "stream",
     "text": [
      "P(LH | A) for the given age and study year: 0.003\n"
     ]
    }
   ],
   "source": [
    "\n",
    "import numpy as np\n",
    "\n",
    "lefthanded_data['Birth_year'] = 1986 - lefthanded_data['age']\n",
    "\n",
    "\n",
    "lefthanded_data['Mean_lh'] = lefthanded_data[['gender']].apply(lambda x: 1 if x['gender'] == 'Male' else 0, axis=1)\n",
    "\n",
    "\n",
    "early_1900s_rate = lefthanded_data.tail(10)['Mean_lh'].mean()\n",
    "\n",
    "\n",
    "late_1900s_rate = lefthanded_data.head(10)['Mean_lh'].mean()\n",
    "\n",
    "\n",
    "def calculate_probability(age_of_death, study_year):\n",
    "    \n",
    "    if study_year < 1950:\n",
    "        return early_1900s_rate / 100\n",
    "    \n",
    "    \n",
    "    elif study_year >= 1950:\n",
    "        return late_1900s_rate / 100\n",
    "    \n",
    "    \n",
    "    else:\n",
    "        return 0.5\n",
    "\n",
    "probability_result = calculate_probability(age_of_death=70, study_year=1986)\n",
    "print(f\"P(LH | A) for the given age and study year: {probability_result}\")\n"
   ]
  },
  {
   "cell_type": "markdown",
   "id": "e90f2f25",
   "metadata": {},
   "source": [
    "# TASK-4"
   ]
  },
  {
   "cell_type": "code",
   "execution_count": 9,
   "id": "ca1e4d87",
   "metadata": {},
   "outputs": [
    {
     "data": {
      "image/png": "[encoded data removed]",
      "text/plain": [
       "<Figure size 640x480 with 1 Axes>"
      ]
     },
     "metadata": {},
     "output_type": "display_data"
    }
   ],
   "source": [
    "import pandas as pd\n",
    "import matplotlib.pyplot as plt\n",
    "\n",
    "# Load death distribution data from the provided CSV file\n",
    "csv_file_path = r'C:\\Users\\kalya\\Downloads\\dataset - dataset.csv'\n",
    "\n",
    "# Assuming the data is in a single column separated by commas\n",
    "death_distribution_data = pd.read_csv(csv_file_path, sep=',', header=None)\n",
    "\n",
    "# Assuming the first row contains column names\n",
    "death_distribution_data.columns = death_distribution_data.iloc[0]\n",
    "\n",
    "# Drop the first row (since it contains column names)\n",
    "death_distribution_data = death_distribution_data.drop(0)\n",
    "\n",
    "# Convert 'age' and 'stroke' columns to numeric\n",
    "death_distribution_data['age'] = pd.to_numeric(death_distribution_data['age'], errors='coerce')\n",
    "death_distribution_data['stroke'] = pd.to_numeric(death_distribution_data['stroke'], errors='coerce')\n",
    "\n",
    "# Drop NaN values from the 'age' and 'stroke' columns\n",
    "death_distribution_data = death_distribution_data.dropna(subset=['age', 'stroke'])\n",
    "\n",
    "# Plot the number of people who died as a function of age\n",
    "death_distribution_data.plot(x='age', y='stroke', kind='bar', legend=False)\n",
    "plt.title('Death Distribution by Age')\n",
    "plt.xlabel('Age')\n",
    "plt.ylabel('Number of People')\n",
    "plt.show()\n",
    "\n"
   ]
  },
  {
   "cell_type": "code",
   "execution_count": null,
   "id": "aa7d5133",
   "metadata": {},
   "outputs": [],
   "source": []
  },
  {
   "cell_type": "markdown",
   "id": "e8c5bfe9",
   "metadata": {},
   "source": [
    "# TASK-5"
   ]
  },
  {
   "cell_type": "code",
   "execution_count": 10,
   "id": "05c1a30a",
   "metadata": {},
   "outputs": [
    {
     "name": "stdout",
     "output_type": "stream",
     "text": [
      "Index(['id', 'gender', 'age', 'hypertension', 'heart_disease', 'ever_married',\n",
      "       'work_type', 'Residence_type', 'avg_glucose_level', 'bmi',\n",
      "       'smoking_status', 'stroke'],\n",
      "      dtype='object', name=0)\n"
     ]
    }
   ],
   "source": [
    "print(death_distribution_data.columns)\n",
    "\n"
   ]
  },
  {
   "cell_type": "code",
   "execution_count": 15,
   "id": "d280e957",
   "metadata": {},
   "outputs": [
    {
     "name": "stdout",
     "output_type": "stream",
     "text": [
      "p_list:\n",
      "1        0.0\n",
      "2        0.0\n",
      "3        0.0\n",
      "4        0.0\n",
      "5        0.0\n",
      "        ... \n",
      "43396    0.0\n",
      "43397    0.0\n",
      "43398    0.0\n",
      "43399    0.0\n",
      "43400    0.0\n",
      "Name: stroke, Length: 43400, dtype: float64\n",
      "\n",
      "p:\n",
      "78.3\n",
      "\n",
      "result:\n",
      "0.09999999999999999\n",
      "Overall Probability of Left-handedness in the Population: 0.09999999999999999\n"
     ]
    }
   ],
   "source": [
    "death_distribution_data['age'] = pd.to_numeric(death_distribution_data['age'], errors='coerce')\n",
    "\n",
    "def P_lh_given_A(age, early_1900s_rate, late_1900s_rate):\n",
    "    \n",
    "    return 0.1  \n",
    "\n",
    "def P_lh(data, P_lh_given_A):\n",
    "    \n",
    "    p_list = data['stroke'] * P_lh_given_A(data['age'], early_1900s_rate, late_1900s_rate)\n",
    "\n",
    "    print(\"p_list:\")\n",
    "    print(p_list)\n",
    "\n",
    "    \n",
    "    p = p_list.sum()\n",
    "\n",
    "    print(\"\\np:\")\n",
    "    print(p)\n",
    "\n",
    "    \n",
    "    denominator = data['stroke'].sum()\n",
    "    result = p / denominator\n",
    "\n",
    "    print(\"\\nresult:\")\n",
    "    print(result)\n",
    "\n",
    "    return result\n",
    "\n",
    "overall_prob = P_lh(death_distribution_data, P_lh_given_A)\n",
    "print(\"Overall Probability of Left-handedness in the Population:\", overall_prob)\n"
   ]
  },
  {
   "cell_type": "code",
   "execution_count": null,
   "id": "61e354dd",
   "metadata": {},
   "outputs": [],
   "source": []
  },
  {
   "cell_type": "markdown",
   "id": "7ed5db00",
   "metadata": {},
   "source": [
    "# TASK-6"
   ]
  },
  {
   "cell_type": "code",
   "execution_count": 20,
   "id": "13113ed3",
   "metadata": {},
   "outputs": [
    {
     "name": "stdout",
     "output_type": "stream",
     "text": [
      "p_list:\n",
      "0        0.0\n",
      "1        0.0\n",
      "2        0.0\n",
      "3        0.0\n",
      "4        0.0\n",
      "        ... \n",
      "43395    0.0\n",
      "43396    0.0\n",
      "43397    0.0\n",
      "43398    0.0\n",
      "43399    0.0\n",
      "Name: stroke, Length: 43400, dtype: float64\n",
      "\n",
      "p:\n",
      "2.384\n",
      "\n",
      "result:\n",
      "0.003044699872286079\n",
      "Overall Probability of Left-handedness in the Population: 0.003044699872286079\n"
     ]
    }
   ],
   "source": [
    "def P_lh_given_A(age_series, early_1900s_rate, late_1900s_rate):\n",
    "    \n",
    "    mask = age_series < 45\n",
    "    \n",
    "    result = np.where(mask, early_1900s_rate / 100, late_1900s_rate / 100)\n",
    "    return result\n",
    "\n",
    "def P_lh(data, P_lh_given_A, early_1900s_rate, late_1900s_rate):\n",
    "    \n",
    "    p_list = data['stroke'] * P_lh_given_A(data['age'], early_1900s_rate, late_1900s_rate)\n",
    "\n",
    "    print(\"p_list:\")\n",
    "    print(p_list)\n",
    "\n",
    "    \n",
    "    p = p_list.sum()\n",
    "\n",
    "    print(\"\\np:\")\n",
    "    print(p)\n",
    "\n",
    "    \n",
    "    denominator = data['stroke'].sum()\n",
    "    result = p / denominator\n",
    "\n",
    "    print(\"\\nresult:\")\n",
    "    print(result)\n",
    "\n",
    "    return result\n",
    "\n",
    "overall_prob = P_lh(lefthanded_data, P_lh_given_A, early_1900s_rate, late_1900s_rate)\n",
    "print(\"Overall Probability of Left-handedness in the Population:\", overall_prob)\n"
   ]
  },
  {
   "cell_type": "code",
   "execution_count": null,
   "id": "ef08321a",
   "metadata": {},
   "outputs": [],
   "source": []
  },
  {
   "cell_type": "markdown",
   "id": "593dcdfb",
   "metadata": {},
   "source": [
    "# TASK-7"
   ]
  },
  {
   "cell_type": "code",
   "execution_count": 21,
   "id": "aa0c2c6d",
   "metadata": {},
   "outputs": [
    {
     "name": "stdout",
     "output_type": "stream",
     "text": [
      "p_list:\n",
      "0        0.0\n",
      "1        0.0\n",
      "2        0.0\n",
      "3        0.0\n",
      "4        0.0\n",
      "        ... \n",
      "43395    0.0\n",
      "43396    0.0\n",
      "43397    0.0\n",
      "43398    0.0\n",
      "43399    0.0\n",
      "Name: stroke, Length: 43400, dtype: float64\n",
      "\n",
      "p:\n",
      "2.384\n",
      "\n",
      "result:\n",
      "0.003044699872286079\n",
      "Probability of dying at age A given right-handedness: 0        0.0\n",
      "1        0.0\n",
      "2        0.0\n",
      "3        0.0\n",
      "4        0.0\n",
      "        ... \n",
      "43395    0.0\n",
      "43396    0.0\n",
      "43397    0.0\n",
      "43398    0.0\n",
      "43399    0.0\n",
      "Name: stroke, Length: 43400, dtype: float64\n"
     ]
    }
   ],
   "source": [
    "def P_A_given_rh(data, P_lh_given_A, early_1900s_rate, late_1900s_rate):\n",
    "    \n",
    "    P_A = data['stroke'] / data['stroke'].sum()\n",
    "\n",
    "    \n",
    "    P_RH = 1 - P_lh(data, P_lh_given_A, early_1900s_rate, late_1900s_rate)\n",
    "\n",
    "    \n",
    "    P_RH_given_A = 1 - P_lh_given_A(data['age'], early_1900s_rate, late_1900s_rate)\n",
    "\n",
    "    \n",
    "    P_A_given_RH = (P_RH_given_A * P_A) / P_RH\n",
    "\n",
    "    return P_A_given_RH\n",
    "\n",
    "\n",
    "P_A_given_RH = P_A_given_rh(lefthanded_data, P_lh_given_A, early_1900s_rate, late_1900s_rate)\n",
    "print(\"Probability of dying at age A given right-handedness:\", P_A_given_RH)\n"
   ]
  },
  {
   "cell_type": "code",
   "execution_count": null,
   "id": "92090c52",
   "metadata": {},
   "outputs": [],
   "source": []
  },
  {
   "cell_type": "markdown",
   "id": "1b603137",
   "metadata": {},
   "source": [
    "# TASK-8"
   ]
  },
  {
   "cell_type": "code",
   "execution_count": 25,
   "id": "6e672a78",
   "metadata": {},
   "outputs": [
    {
     "name": "stdout",
     "output_type": "stream",
     "text": [
      "Overall Probability of Left-handedness in the Population: 0.052234993614303955\n"
     ]
    }
   ],
   "source": [
    "def P_lh_given_A(age, early_1900s_rate, late_1900s_rate):\n",
    "    if age < 45:\n",
    "        return early_1900s_rate / 100  \n",
    "    else:\n",
    "        return late_1900s_rate / 100\n",
    "\n",
    "def P_lh(data, P_lh_given_A, early_1900s_rate, late_1900s_rate):\n",
    "    \n",
    "    p_list = data['stroke'] * data['age'].apply(P_lh_given_A, args=(early_1900s_rate, late_1900s_rate))\n",
    "\n",
    "    \n",
    "    p = p_list.sum()\n",
    "\n",
    "    denominator = data['stroke'].sum()\n",
    "    result = p / denominator\n",
    "\n",
    "    return result\n",
    "\n",
    "# Example call\n",
    "early_1900s_rate = 10  \n",
    "late_1900s_rate = 5   \n",
    "overall_prob = P_lh(lefthanded_data, P_lh_given_A, early_1900s_rate, late_1900s_rate)\n",
    "print(\"Overall Probability of Left-handedness in the Population:\", overall_prob)\n"
   ]
  },
  {
   "cell_type": "code",
   "execution_count": null,
   "id": "7f7c46f5",
   "metadata": {},
   "outputs": [],
   "source": []
  },
  {
   "cell_type": "markdown",
   "id": "5022eef1",
   "metadata": {},
   "source": [
    "# TASK-9"
   ]
  },
  {
   "cell_type": "code",
   "execution_count": 26,
   "id": "17498f89",
   "metadata": {},
   "outputs": [
    {
     "name": "stdout",
     "output_type": "stream",
     "text": [
      "Mean age at death for left-handers: 5.45\n",
      "Mean age at death for right-handers: 85.66\n",
      "Age difference between right-handers and left-handers: 80.21\n"
     ]
    }
   ],
   "source": [
    "\n",
    "def P_A_given_lh(data, P_lh_given_A, early_1900s_rate, late_1900s_rate, age):\n",
    "    p_lh = P_lh_given_A(age, early_1900s_rate, late_1900s_rate)\n",
    "    p_A_given_lh = data['stroke'].mean() * p_lh\n",
    "    return p_A_given_lh\n",
    "\n",
    "def P_A_given_rh(data, P_lh_given_A, early_1900s_rate, late_1900s_rate, age):\n",
    "    p_rh = 1 - P_lh_given_A(age, early_1900s_rate, late_1900s_rate)\n",
    "    p_A_given_rh = data['stroke'].mean() * p_rh\n",
    "    return p_A_given_rh\n",
    "\n",
    "\n",
    "ages = range(1, 101)  \n",
    "P_A_given_lh_values = [P_A_given_lh(lefthanded_data, P_lh_given_A, early_1900s_rate, late_1900s_rate, age) for age in ages]\n",
    "P_A_given_rh_values = [P_A_given_rh(lefthanded_data, P_lh_given_A, early_1900s_rate, late_1900s_rate, age) for age in ages]\n",
    "\n",
    "\n",
    "average_lh_age = np.nansum(np.array(ages) * np.array(P_A_given_lh_values))\n",
    "average_rh_age = np.nansum(np.array(ages) * np.array(P_A_given_rh_values))\n",
    "\n",
    "\n",
    "print(\"Mean age at death for left-handers:\", round(average_lh_age, 2))\n",
    "print(\"Mean age at death for right-handers:\", round(average_rh_age, 2))\n",
    "\n",
    "age_difference = average_rh_age - average_lh_age\n",
    "print(\"Age difference between right-handers and left-handers:\", round(age_difference, 2))\n"
   ]
  },
  {
   "cell_type": "code",
   "execution_count": null,
   "id": "576d4fca",
   "metadata": {},
   "outputs": [],
   "source": []
  },
  {
   "cell_type": "markdown",
   "id": "f8a649bf",
   "metadata": {},
   "source": [
    "# TASK-10"
   ]
  },
  {
   "cell_type": "code",
   "execution_count": 35,
   "id": "751050c9",
   "metadata": {},
   "outputs": [],
   "source": [
    "import random\n"
   ]
  },
  {
   "cell_type": "code",
   "execution_count": 36,
   "id": "43a3b389",
   "metadata": {},
   "outputs": [
    {
     "name": "stdout",
     "output_type": "stream",
     "text": [
      "P_A_given_lh_values_2018: [None, None, None, None, None, None, None, None, None, None, None, None, None, None, None, None, None, None, None, None, None, None, None, None, None, None, None, None, None, None, None, None, None, None, None, None, None, None, None, None, None, None, None, None, None, None, None, None, None, None, None, None, None, None, None, None, None, None, None, None, None, None, None, None, None, None, None, None, None, None, None, None, None, None, None, None, None, None, None, None, None, None, None, None, None, None, None, None, None, None, None, None, None, None, None, None, None, None, None, None]\n",
      "P_A_given_rh_values_2018: [None, None, None, None, None, None, None, None, None, None, None, None, None, None, None, None, None, None, None, None, None, None, None, None, None, None, None, None, None, None, None, None, None, None, None, None, None, None, None, None, None, None, None, None, None, None, None, None, None, None, None, None, None, None, None, None, None, None, None, None, None, None, None, None, None, None, None, None, None, None, None, None, None, None, None, None, None, None, None, None, None, None, None, None, None, None, None, None, None, None, None, None, None, None, None, None, None, None, None, None]\n"
     ]
    }
   ],
   "source": [
    "\n",
    "def P_A_given_lh(age, death_distribution_data, study_year):\n",
    "    \n",
    "    pass\n",
    "\n",
    "def P_A_given_rh(age, death_distribution_data, study_year):\n",
    "    \n",
    "    pass\n",
    "\n",
    "\n",
    "ages = range(1, 101)  \n",
    "\n",
    "\n",
    "death_distribution_data = pd.DataFrame({\n",
    "    'age': [random.choice(ages) for _ in range(100)],  \n",
    "    \n",
    "})\n",
    "\n",
    "\n",
    "study_year = 2018\n",
    "\n",
    "\n",
    "P_A_given_lh_values_2018 = [P_A_given_lh(age, death_distribution_data, study_year=study_year) for age in ages]\n",
    "P_A_given_rh_values_2018 = [P_A_given_rh(age, death_distribution_data, study_year=study_year) for age in ages]\n",
    "\n",
    "\n",
    "print(\"P_A_given_lh_values_2018:\", P_A_given_lh_values_2018)\n",
    "print(\"P_A_given_rh_values_2018:\", P_A_given_rh_values_2018)\n",
    "\n",
    "\n"
   ]
  },
  {
   "cell_type": "code",
   "execution_count": null,
   "id": "1b4d75d3",
   "metadata": {},
   "outputs": [],
   "source": []
  }
 ],
 "metadata": {
  "kernelspec": {
   "display_name": "Python 3 (ipykernel)",
   "language": "python",
   "name": "python3"
  },
  "language_info": {
   "codemirror_mode": {
    "name": "ipython",
    "version": 3
   },
   "file_extension": ".py",
   "mimetype": "text/x-python",
   "name": "python",
   "nbconvert_exporter": "python",
   "pygments_lexer": "ipython3",
   "version": "3.9.13"
  }
 },
 "nbformat": 4,
 "nbformat_minor": 5
}
